{
  "cells": [
    {
      "cell_type": "markdown",
      "metadata": {
        "id": "view-in-github",
        "colab_type": "text"
      },
      "source": [
        "<a href=\"https://colab.research.google.com/github/ryan-sun1/CMSC320_Summer25_Git/blob/main/Copy_of_CMSC320_HW2_Summer_I_2025.ipynb\" target=\"_parent\"><img src=\"https://colab.research.google.com/assets/colab-badge.svg\" alt=\"Open In Colab\"/></a>"
      ]
    },
    {
      "cell_type": "markdown",
      "metadata": {
        "id": "ZuEbtOi43OQc"
      },
      "source": [
        "# **HOMEWORK 2...?** 🕵\n",
        "## **DUE: *JUNE 18, 2025 @ 11:59 PM***\n",
        "## **24-HR LATE DUE DATE W/ A 10% PENALTY: *JUNE 19, 2025 @ 11:59 PM***\n",
        "\n",
        "### **DO NOT REMOVE ANY PART OF ANY OF THE QUESTIONS OR YOU LOSE CREDIT**\n",
        "### *No Hardcoding Any Part of Any Question*  😋🪄🧌\n",
        "### **REMEMBER TO SHOW ALL CODE OUTPUT (NO CREDIT OTHERWISE)**\n",
        "### **Reminder: Please make sure your code runs before submitting your work. Code sections that do not run will receive 0 credits, no partials will be given. This is VERY important in real project development.**"
      ]
    },
    {
      "cell_type": "markdown",
      "metadata": {
        "id": "1kCoK2ZH4HdN"
      },
      "source": [
        "---\n",
        "---\n",
        "**DISCLAIMER: This is a fake story, not a real incident! We have created this story just for the data exploration purpose.**\n",
        "\n",
        "---\n",
        "---\n",
        "\n",
        "**Campus Police Department**\n",
        "\n",
        "Incident Report\n",
        "\n",
        "---\n",
        "\n",
        "**Incident Date:** Febuary 27, 2025\n",
        "\n",
        "**Location of Incident:** 2nd Floor, Iribe Building\n",
        "\n",
        "**Items Left at the Scene:** Red Ticket for Zichao's Magic Show\n",
        "\n",
        "**Case Number:** 2025-IRB-0027\n",
        "\n",
        "---\n",
        "**Victim Information:**\n",
        "\n",
        "**Name:** Dr. Fardina Alam\n",
        "\n",
        "**Affiliation:** University of Maryland, College Park\n",
        "\n",
        "**Position:** Professor\n",
        "\n",
        "**Contact Information:** fardina@umd.edu\n",
        "\n",
        "---\n",
        "\n",
        "**Incident Description:**\n",
        "\n",
        "On the evening of Febuary 27, 2025, an unknown individual(s) unlawfully entered Dr. Fardina's room located on the 2nd floor of Iribe and stole a set of Markers. The stolen items were a set of limited edition markers that Dr. Fardina had spent years collecting. At the scene of the crime, a red entry ticket for \"Zichao's Magic Show\" was found on the floor near Dr. Fardina's desk.\n",
        "\n",
        "\n",
        "\n",
        "\n"
      ]
    },
    {
      "cell_type": "code",
      "execution_count": 20,
      "metadata": {
        "id": "4rVgG-Vi7a_O"
      },
      "outputs": [],
      "source": [
        "# We import all essential libraries for this HW.\n",
        "# If you want to add additional libraries, you can add more here!\n",
        "import pandas as pd\n",
        "from datetime import datetime\n",
        "import string"
      ]
    },
    {
      "cell_type": "markdown",
      "metadata": {
        "id": "ZBLEXsMU7gqH"
      },
      "source": [
        "## YOUR TASK 🔎:\n",
        "\n",
        "In this assignment, you are tasked with solving the mystery of Dr. Fardina's stolen markers and finding the culprit.\n",
        "\n",
        "* To accomplish this, you will be provided with **4 data sets** containing key information related to the incident. The list of the data sets name given below:\n",
        "\n",
        " - Profiles\n",
        " - Witnesses\n",
        " - Zichao's magic show\n",
        " - Interrogation Statements\n",
        "\n",
        "\n",
        "\n",
        "* Your goal is to analyze these data sets to uncover the clues and evidences that will lead you to the thief.\n",
        "\n",
        "**Be careful in following instructions as it may lead to you losing points :(**\n",
        "\n",
        "Take a moment to look at all the data sets below:\n",
        "\n",
        "---\n",
        "\n",
        "**Profiles:**\n",
        "\n",
        "This dataset contains information regarding all the potential people that could have committed the crime. General information regarding each person are as follows:\n",
        "- **ID:** A **unique** identification for each person\n",
        "- **Name:** The name of the person\n",
        "- **Birthday:** The birthday of the person\n",
        "- **Location_during_crime:** The location of the person during the crime\n",
        "- **Eye_Color:** The eye color of the person\n",
        "- **Skin_Color:** The skin color of the person\n",
        "- **Hair_Color:** The hair color of the person\n",
        "- **Height:** The height of the person in cm\n",
        "\n",
        "**Witnesses:**\n",
        "\n",
        "This dataset contains a statement from everyone in profiles, regarding suspicious things they saw during the time of the crime. Information that comes in this dataset are as follows:\n",
        "- **ID:** A **Unique** identification for each person\n",
        "- **Statement:** A statement from the person regarding a suspicious activity during the time of the crime\n",
        "\n",
        "**Zichao's Magic Show:**\n",
        "\n",
        "This dataset contains everyone that purchased a ticket for the show. **NOTE** that not everyone in profiles has purchased a ticket for this show. The Information contained in this dataset are as follows:\n",
        "- **ID:** A **Unique** indentification for each person\n",
        "- **Ticket_Number:** A **Unique** number that serves as an identification for the ticket bought\n",
        "\n",
        "**Interrogation Statements:**\n",
        "\n",
        "This datasets contains a statement from each person after they have been interrogated. **NOTE** assume that each statement is ***100% true*** and that ***there are people in this dataset who aren't in the \"Profiles\" dataset***.\n",
        "Information contained in this dataset are as follows:\n",
        "\n",
        "- **Name:** The name of the person being interrogated\n",
        "- **Statement:** A statement the person gives after being interrogated\n",
        "\n",
        "---"
      ]
    },
    {
      "cell_type": "markdown",
      "metadata": {
        "id": "x-yyybk6EOO2"
      },
      "source": [
        "## Q1) Lets begin by observing the profiles dataset (10 PTS Total)\n",
        "\n",
        "\n",
        "\n"
      ]
    },
    {
      "cell_type": "markdown",
      "source": [
        "\n",
        "**TASK 1.1 (1 Point):**  In the code box below, load in \"Profiles\" dataset into a variable called **profiles_df** and display it"
      ],
      "metadata": {
        "id": "_MXHft5me_eA"
      }
    },
    {
      "cell_type": "code",
      "execution_count": 53,
      "metadata": {
        "id": "-IXWhyv5Eczh",
        "colab": {
          "base_uri": "https://localhost:8080/",
          "height": 144
        },
        "outputId": "23ae21ee-c7eb-4789-b371-f9708dcc45ac"
      },
      "outputs": [
        {
          "output_type": "error",
          "ename": "NameError",
          "evalue": "name 'df' is not defined",
          "traceback": [
            "\u001b[0;31m---------------------------------------------------------------------------\u001b[0m",
            "\u001b[0;31mNameError\u001b[0m                                 Traceback (most recent call last)",
            "\u001b[0;32m/tmp/ipython-input-53-1396537375.py\u001b[0m in \u001b[0;36m<cell line: 0>\u001b[0;34m()\u001b[0m\n\u001b[0;32m----> 1\u001b[0;31m \u001b[0mdf\u001b[0m\u001b[0;34m\u001b[0m\u001b[0;34m\u001b[0m\u001b[0m\n\u001b[0m",
            "\u001b[0;31mNameError\u001b[0m: name 'df' is not defined"
          ]
        }
      ],
      "source": []
    },
    {
      "cell_type": "markdown",
      "metadata": {
        "id": "aNBECwLXto9e"
      },
      "source": [
        "**TASK 1.2 (1 Point):**  Next, you need to display the number of rows and columns in the \"Profiles\" dataset."
      ]
    },
    {
      "cell_type": "code",
      "execution_count": 31,
      "metadata": {
        "id": "LnRyYhsZtpTb"
      },
      "outputs": [],
      "source": [
        "# Write your code here"
      ]
    },
    {
      "cell_type": "markdown",
      "metadata": {
        "id": "kH4QpKeXsFE3"
      },
      "source": [
        "**TASK 1.3 (1 Point):**  Next, you need to display the name of the columns in the \"Profiles\" dataset."
      ]
    },
    {
      "cell_type": "code",
      "execution_count": null,
      "metadata": {
        "id": "71EZMoPKsDX0"
      },
      "outputs": [],
      "source": [
        "# Write your code here"
      ]
    },
    {
      "cell_type": "markdown",
      "metadata": {
        "id": "9PPdHisOsjg0"
      },
      "source": [
        "**TASK 1.4 (1 Point):**  Now, you need to display the types of the columns in the \"Profiles\" dataset."
      ]
    },
    {
      "cell_type": "code",
      "execution_count": null,
      "metadata": {
        "id": "riaoFt2js1DH"
      },
      "outputs": [],
      "source": [
        "# Write your code here"
      ]
    },
    {
      "cell_type": "markdown",
      "metadata": {
        "id": "RmNRKK81FyyS"
      },
      "source": [
        "**TASK 1.5 (2 Points):** Utilizing the `count()` function on this dataset and set it to the variable **info** and then display it.\n",
        "\n",
        "Write any **potential problem** that you see with the dataset when observing the output of the count function:\n",
        "\n",
        "\n"
      ]
    },
    {
      "cell_type": "code",
      "execution_count": null,
      "metadata": {
        "id": "MXKTQ9k0K84A"
      },
      "outputs": [],
      "source": [
        "# Write your code here"
      ]
    },
    {
      "cell_type": "markdown",
      "metadata": {
        "id": "S-9jv80SKP0x"
      },
      "source": [
        "**<font color='red'>Write your observations here:</font>**\n",
        "\n",
        "[//]: # \"Remove this comment and start writing from this line\""
      ]
    },
    {
      "cell_type": "markdown",
      "metadata": {
        "id": "ZHRsBO_7KjOz"
      },
      "source": [
        "**TASK 1.6 (4 Points):**\n",
        "\n",
        "Look back at the \"Profiles\" dataset. Using other pandas functions than `count()`, **can you spot another potential problem with the dataset?**"
      ]
    },
    {
      "cell_type": "code",
      "execution_count": null,
      "metadata": {
        "id": "Mj5q3ixftUm_"
      },
      "outputs": [],
      "source": [
        "# Write your code here"
      ]
    },
    {
      "cell_type": "markdown",
      "metadata": {
        "id": "bobQCeJnNTyb"
      },
      "source": [
        "**<font color='red'>Write your observations here:</font>**\n",
        "\n",
        "[//]: # \"Remove this comment and start writing from this line\""
      ]
    },
    {
      "cell_type": "markdown",
      "metadata": {
        "id": "sWeYA6N4Nf-6"
      },
      "source": [
        "## Q2) Cleaning the Dataset (25 PTS Total)"
      ]
    },
    {
      "cell_type": "markdown",
      "metadata": {
        "id": "vt02sN-9uZIb"
      },
      "source": [
        "**TASK 2.1 (10 Points):** Lets begin by fixing the Birthday column. You may notice that the dates are in inconsistent format!\n",
        "\n",
        "- Pandas internally represent dates in 'datetime64' format which is a form of ISO 8601. Basically, dates are represented as yyyy-mm-dd.\n",
        "\n",
        "\n",
        "- Fix all the dates in the Birthday Column.\n",
        "- Display the \"Profiles\" dataframe after you are done.\n",
        "- Note that the only **2 formats** the dates are in is either **yyyy/dd/mm** or **mm/dd/yyyy**;\n",
        "- You want to represent them as **yyyy-mm-dd**\n",
        "\n",
        "- **EXAMPLE**: In the “Profiles” dataset, dates like *2000/10/12* and *10/12/2000* follow different formats—one as *December 10th, 2000*, and the other as *October 12th, 2000*. We aim to standardize them to *2000-12-10* and *2000-10-12*, respectively.\n",
        "\n",
        "**HINT:** some datetime functions might make things easier.\n",
        "- https://www.geeksforgeeks.org/python-pandas-to_datetime/\n",
        "- https://www.programiz.com/python-programming/datetime/strftime\n"
      ]
    },
    {
      "cell_type": "code",
      "execution_count": null,
      "metadata": {
        "id": "bLStgZpUQikT"
      },
      "outputs": [],
      "source": [
        "# Write your code here"
      ]
    },
    {
      "cell_type": "markdown",
      "metadata": {
        "id": "FKlHOEj7aPpt"
      },
      "source": [
        "**TASK 2.2 (5 Points):** Now that we have cleaned up the Birthday column, lets find the age of each person. Create a new column called \"Age\" that displays the age of the person **on the day of the crime.** Once you are done, display the\n",
        "\"Profiles\" dataframe"
      ]
    },
    {
      "cell_type": "code",
      "execution_count": null,
      "metadata": {
        "id": "_p9-0y1hazEz"
      },
      "outputs": [],
      "source": [
        "# Write your code here"
      ]
    },
    {
      "cell_type": "markdown",
      "metadata": {
        "id": "a0gt8jzHgZJQ"
      },
      "source": [
        "**TASK 2.3 (10 Points):** Now that we have created the \"Age\"; lets clean the 'Eye_color's column.\n",
        "\n",
        "***Please read the directions carefully:***\n",
        "\n",
        "\n",
        "- In order to fill in the missing eye_colors, we want to find the **most common eye_color** among those who have the **same hair and skin color**.\n",
        "- For Instance, if we want to find the eye_color of someone who has yellow hair and violet skin:\n",
        " - we would first find everything who has the same hair and skin color, in this case it would be yellow hair and violet skin\n",
        " - and then we find the most common eye_color among them.\n",
        " - we then replace the missing eye_color with the eye color that is the most common among the people with the same hair and skin color.\n",
        "- Watch out for redundant data!\n",
        "\n",
        "- ***NOTE: In the case that you find multiple modes, choose the color that appears first in alphabetical order***\n",
        "\n",
        " When you finish filling in the missing eye colors, please **display the profiles_df**\n"
      ]
    },
    {
      "cell_type": "code",
      "execution_count": null,
      "metadata": {
        "id": "gd6uRagRjMhx"
      },
      "outputs": [],
      "source": [
        "# Write your code here"
      ]
    },
    {
      "cell_type": "markdown",
      "metadata": {
        "id": "k14ktiue0Tfi"
      },
      "source": [
        "\n",
        "## Q3) Finding the features of the culprit (38 PTS Total)\n",
        "\n",
        "Now that we have successfully cleaned all of our data, lets begin finding the features of the criminal. Take a moment to look at the **\"Witnesses\"** table. We don't necessarily want all the statements from every single witness.\n",
        "\n",
        "**NOTE:** Take a look at the structure of each statement, notice how there are only a few variations of statements from the witnesses."
      ]
    },
    {
      "cell_type": "markdown",
      "source": [
        "**TASK 3.1 (5 Points):** Find all witnesses that were near the crime scene\n",
        "- First load in the Witness.csv file and set it to a variable called \"**witness_df**\"\n",
        "- create a new dataframe called **\"important_witnesses\"** that contains the id and the witness statements of those who were near the scene of the crime\n",
        "- display the new dataframe when you are finished\n",
        "- **HINT:** look at the floor which the crime happened on."
      ],
      "metadata": {
        "id": "5ksnASmBe1Md"
      }
    },
    {
      "cell_type": "code",
      "execution_count": null,
      "metadata": {
        "id": "ismbbFGWw2Hu"
      },
      "outputs": [],
      "source": [
        "# Write your code here"
      ]
    },
    {
      "cell_type": "markdown",
      "metadata": {
        "id": "OHirO_rbw8fV"
      },
      "source": [
        "**TASK 3.2 (5 Points):** Find every potential eye color that the culprit could have\n",
        "\n",
        " - Put all the potential eye colors of the culprit in a list called **\"potential_eye_colors\"** and **display** it when you're done.\n",
        " - **potential_eye_colors** should have **no duplicates.**"
      ]
    },
    {
      "cell_type": "code",
      "execution_count": null,
      "metadata": {
        "id": "iNG-V7QFw9aO"
      },
      "outputs": [],
      "source": [
        "# Write your code here"
      ]
    },
    {
      "cell_type": "markdown",
      "metadata": {
        "id": "3NaknJWew5P1"
      },
      "source": [
        "**TASK 3.3 (5 Points):** Find every potential hair color that the culprit could have\n",
        "\n",
        " - Put all the potential hair colors of the culprit in a list called **\"potential_hair_colors\"** and **display** it when you're done."
      ]
    },
    {
      "cell_type": "code",
      "execution_count": null,
      "metadata": {
        "id": "7ptAepng3aBc"
      },
      "outputs": [],
      "source": [
        "# Write your code here"
      ]
    },
    {
      "cell_type": "markdown",
      "metadata": {
        "id": "ID0tGLC_3bfv"
      },
      "source": [
        "**TASK 3.4 (5 Points):** Find every potential skin color that the culprit could have\n",
        "\n",
        " - Put all the potential skin colors of the culprit in a list called **\"potential_skin_colors\"** and display it when you're done"
      ]
    },
    {
      "cell_type": "code",
      "execution_count": null,
      "metadata": {
        "id": "9S0_khng3fZ7"
      },
      "outputs": [],
      "source": [
        "# Write your code here"
      ]
    },
    {
      "cell_type": "markdown",
      "metadata": {
        "id": "jU8OT78q3t73"
      },
      "source": [
        "**TASK 3.5 (10 Points):** Find the potential height of the culprit\n",
        "\n",
        " - Put the smallest and largest potential heights of the culprit in the variables called **\"smallest_height\" & \"largest_height\"** and display them when you are done"
      ]
    },
    {
      "cell_type": "code",
      "execution_count": null,
      "metadata": {
        "id": "Hz4sYBQe3zMT"
      },
      "outputs": [],
      "source": [
        "# Write your code here"
      ]
    },
    {
      "cell_type": "markdown",
      "metadata": {
        "id": "n3bjueSr4LxH"
      },
      "source": [
        "**TASK 3.6 (8 Points):** Find the potential age of the culprit\n",
        "\n",
        " - Put the smallest and largest potential age of the culprit in the variables called **\"smallest_age\" & \"largest_age\"** and display them when you are done"
      ]
    },
    {
      "cell_type": "code",
      "execution_count": null,
      "metadata": {
        "id": "fP0uPiGP4VgW"
      },
      "outputs": [],
      "source": [
        "# Write your code here"
      ]
    },
    {
      "cell_type": "markdown",
      "metadata": {
        "id": "osm-HBr2eqsf"
      },
      "source": [
        "## Q4) Who owns the Ticket? (30 PTS Total)"
      ]
    },
    {
      "cell_type": "markdown",
      "metadata": {
        "id": "TMjHYJ9leqsg"
      },
      "source": [
        "**TASK 4.1 (2 Points):** Loading final dfs\n",
        "\n",
        "\n",
        "Load in the **\"Zichao's Magic Show.csv\"** into a dataframe called **\"show_df\"** and the **\"Interrogation_Statement.csv\"** into a dataframe called **\"interrogation_df\"** respectively and display them when you are done"
      ]
    },
    {
      "cell_type": "code",
      "execution_count": null,
      "metadata": {
        "id": "5kRUyg_Peqsg"
      },
      "outputs": [],
      "source": [
        "# Write your code here"
      ]
    },
    {
      "cell_type": "markdown",
      "source": [
        "We're **so close** to figuring out the *last* and *final* clue to locate the culprit, but it looks like they are trying to beat us to it! What a devious criminal!\n",
        "\n",
        "The culprit must have **sabotaged** our data after **interrogation** because it looks so wonky with weird symbols.\n",
        "\n",
        "However, HQ informed us that our good friend and exemplar cryptanalyst **Alan Turing** has something to say to help us fix the data. **He encoded his message to keep it safe from the culprit.**\n",
        "\n",
        "**TASK 4.2 (10 Points):**\n",
        "\n",
        "Find what **Alan Turing** has to say:\n",
        "- Use the **interrogation_df** to locate Alan's Turing's message.\n",
        "- Put the message in a variable called \"**encoded_message**\" as a string (**Exclude** any **quotation marks** within the statement)\n",
        " - **Print** the encoded message in the following format: {\"Encoded Message:\", encoded_message}\n",
        "- Figure out what the message says by taking a look at the numbers:\n",
        " - A **single space** between numbers indicates a letter to form a word.\n",
        " - A **double space** between numbers indicates the start of a new word.\n",
        "- Store his decoded message in a variable called \"**decoded_message**\"\n",
        "- Print out **Alan Turing's** decoded message in the following format: {\"Decoded Message:\", decoded_message}\n",
        "\n",
        "**Hint:** Maybe [enumerating](https://docs.python.org/3/library/functions.html#enumerate) to store letters to numbers might help along with using [ascii values](https://docs.python.org/3/library/string.html)"
      ],
      "metadata": {
        "id": "jT-hdhl-MdxA"
      }
    },
    {
      "cell_type": "code",
      "source": [
        "# Write your code here"
      ],
      "metadata": {
        "id": "WjEAh8fOMY1q"
      },
      "execution_count": null,
      "outputs": []
    },
    {
      "cell_type": "markdown",
      "source": [
        "**TASK 4.3 (10 Points):**\n",
        "\n",
        "**Restore** the interrogation statements back to their original state after **following the decoded message from before**.\n",
        "- After restoration, make sure your modifications are updated in the **interrogation_df** itself.\n",
        "- **Display** the **interrogation_df** when you are done."
      ],
      "metadata": {
        "id": "ftNs9XyDMv_8"
      }
    },
    {
      "cell_type": "code",
      "source": [
        "# Write your code here"
      ],
      "metadata": {
        "id": "ZB8WvlKgMwtq"
      },
      "execution_count": null,
      "outputs": []
    },
    {
      "cell_type": "markdown",
      "metadata": {
        "id": "Or4OCTuneqsh"
      },
      "source": [
        "\n",
        "**TASK 4.4 (8 Points):** Create a column called **Ticket_Color** for the **\"show_df\"** that displays all the colors of the ticket\n",
        "\n",
        "Remember that there was a show ticket left at the crime scene, take a second to look through **\"show_df\"**.\n",
        "- Try and find a way to identify how you can find the ticket color from the ticket number.\n",
        "- **Display** the **\"show_df\"** when you are done\n",
        "\n",
        "**HINT:** Examine the **\"interrogation_df\"**, someone might have an idea"
      ]
    },
    {
      "cell_type": "code",
      "execution_count": null,
      "metadata": {
        "id": "Hse-UlMCeqsh"
      },
      "outputs": [],
      "source": [
        "# Write your code here"
      ]
    },
    {
      "cell_type": "markdown",
      "metadata": {
        "id": "oRbVWV7K8uD-"
      },
      "source": [
        "## Q5) Finding the culprit (12 PTS Total)\n",
        "\n",
        "A helpful function might be the \"iloc\" function. Have a look at: https://pandas.pydata.org/pandas-docs/stable/reference/api/pandas.DataFrame.iloc.html"
      ]
    },
    {
      "cell_type": "markdown",
      "metadata": {
        "id": "8zcamGVmAKOp"
      },
      "source": [
        "**TASK 5.1(10 Points):** Using all the **data compiled from before** find a person that matches all the features from the profile.\n",
        "\n",
        "- Do not hardcode or you will lose credit after all your hardwork 🥸\n",
        "\n",
        "- Put the name of the culprit in a variable called **\"culprit\"**\n",
        "- Print out the name of the culprit (There is only one)."
      ]
    },
    {
      "cell_type": "code",
      "execution_count": null,
      "metadata": {
        "id": "atnueiYN_DsX"
      },
      "outputs": [],
      "source": [
        "# Write your code here"
      ]
    },
    {
      "cell_type": "markdown",
      "metadata": {
        "id": "IWNV2rhN_L8d"
      },
      "source": [
        "**TASK 5.2 (2 Points):** Check if your culprit is correct!\n",
        "\n",
        "**Interrogate** your culprit to see if you got the correct person."
      ]
    },
    {
      "cell_type": "code",
      "execution_count": null,
      "metadata": {
        "id": "mV_RIdbB_T5w"
      },
      "outputs": [],
      "source": [
        "# Write your code here"
      ]
    },
    {
      "cell_type": "markdown",
      "source": [
        "# GREAT WORK DETECTIVE!! 🌻"
      ],
      "metadata": {
        "id": "jj1JAEOBfrw9"
      }
    }
  ],
  "metadata": {
    "colab": {
      "provenance": [],
      "collapsed_sections": [
        "x-yyybk6EOO2"
      ],
      "include_colab_link": true
    },
    "kernelspec": {
      "display_name": "Python 3",
      "name": "python3"
    },
    "language_info": {
      "name": "python"
    }
  },
  "nbformat": 4,
  "nbformat_minor": 0
}